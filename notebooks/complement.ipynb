{
 "cells": [
  {
   "cell_type": "code",
   "execution_count": 1,
   "metadata": {},
   "outputs": [
    {
     "name": "stdout",
     "output_type": "stream",
     "text": [
      "c:\\Users\\Stefo\\Programming\\Spam-Filter\n"
     ]
    }
   ],
   "source": [
    "%cd .."
   ]
  },
  {
   "cell_type": "code",
   "execution_count": null,
   "metadata": {},
   "outputs": [],
   "source": [
    "import pandas as pd\n",
    "\n",
    "from scripts.load_dataset import load_dataset\n",
    "from scripts.naive_bayes import naive_bayes\n",
    "from scripts.evaluate import evaluate\n",
    "from scripts.visual_comparisson import create_barplots\n",
    "\n",
    "from preprocessing.non_english_word_removal import remove_non_english_words\n",
    "from preprocessing.stop_word_reomval import reomve_stop_words\n"
   ]
  },
  {
   "cell_type": "code",
   "execution_count": null,
   "metadata": {},
   "outputs": [],
   "source": [
    "calculation_type = 'complement'"
   ]
  },
  {
   "cell_type": "code",
   "execution_count": null,
   "metadata": {},
   "outputs": [],
   "source": [
    "dataset = load_dataset('./data/emails.csv')\n",
    "dataset_english_only = remove_non_english_words(dataset)\n",
    "dataset_removed_stop_words = reomve_stop_words(dataset)\n",
    "dataset_english_only_no_stop_words = reomve_stop_words(dataset_english_only)"
   ]
  },
  {
   "cell_type": "code",
   "execution_count": null,
   "metadata": {},
   "outputs": [],
   "source": [
    "x, y = naive_bayes(calculation_type, dataset)\n",
    "x2, y2 = naive_bayes(calculation_type, dataset_english_only)\n",
    "x3, y3 = naive_bayes(calculation_type, dataset_removed_stop_words)\n",
    "x4, y4 = naive_bayes(calculation_type, dataset_english_only_no_stop_words)"
   ]
  },
  {
   "cell_type": "code",
   "execution_count": null,
   "metadata": {},
   "outputs": [],
   "source": [
    "data = {\n",
    "    'no_filter': evaluate(x, y),\n",
    "    'english_filter': evaluate(x2, y2),\n",
    "    'stop_filter': evaluate(x3, y3),\n",
    "    'english_stop_filter': evaluate(x4, y4)\n",
    "}"
   ]
  },
  {
   "cell_type": "code",
   "execution_count": null,
   "metadata": {},
   "outputs": [],
   "source": [
    "create_barplots(data)"
   ]
  }
 ],
 "metadata": {
  "kernelspec": {
   "display_name": "spam-filter",
   "language": "python",
   "name": "python3"
  },
  "language_info": {
   "codemirror_mode": {
    "name": "ipython",
    "version": 3
   },
   "file_extension": ".py",
   "mimetype": "text/x-python",
   "name": "python",
   "nbconvert_exporter": "python",
   "pygments_lexer": "ipython3",
   "version": "3.11.3"
  },
  "orig_nbformat": 4
 },
 "nbformat": 4,
 "nbformat_minor": 2
}
