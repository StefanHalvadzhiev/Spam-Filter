{
 "cells": [
  {
   "cell_type": "code",
   "execution_count": 1,
   "metadata": {},
   "outputs": [
    {
     "name": "stdout",
     "output_type": "stream",
     "text": [
      "c:\\Users\\Stefo\\Programming\\Spam-Filter\n"
     ]
    }
   ],
   "source": [
    "%cd .. "
   ]
  },
  {
   "cell_type": "code",
   "execution_count": 2,
   "metadata": {},
   "outputs": [
    {
     "name": "stderr",
     "output_type": "stream",
     "text": [
      "[nltk_data] Downloading package stopwords to\n",
      "[nltk_data]     C:\\Users\\Stefo\\AppData\\Roaming\\nltk_data...\n",
      "[nltk_data]   Package stopwords is already up-to-date!\n"
     ]
    }
   ],
   "source": [
    "import pandas as pd\n",
    "\n",
    "from scripts.load_dataset import load_dataset\n",
    "from scripts.naive_bayes import naive_bayes\n",
    "from scripts.evaluate import evaluate\n",
    "\n",
    "from preprocessing.non_english_word_removal import remove_non_english_words\n",
    "from preprocessing.stop_word_reomval import reomve_stop_words\n"
   ]
  },
  {
   "cell_type": "code",
   "execution_count": 3,
   "metadata": {},
   "outputs": [],
   "source": [
    "dataset = load_dataset('./data/emails.csv')"
   ]
  },
  {
   "cell_type": "code",
   "execution_count": 4,
   "metadata": {},
   "outputs": [
    {
     "ename": "NameError",
     "evalue": "name 'reomve_non_engish_words' is not defined",
     "output_type": "error",
     "traceback": [
      "\u001b[1;31m---------------------------------------------------------------------------\u001b[0m",
      "\u001b[1;31mNameError\u001b[0m                                 Traceback (most recent call last)",
      "Cell \u001b[1;32mIn[4], line 1\u001b[0m\n\u001b[1;32m----> 1\u001b[0m filtered_dataset \u001b[39m=\u001b[39m reomve_non_engish_words(dataset)\n\u001b[0;32m      3\u001b[0m stop_word_dataset \u001b[39m=\u001b[39m reomve_stop_words(filtered_dataset)\n\u001b[0;32m      4\u001b[0m stop_word_dataset\n",
      "\u001b[1;31mNameError\u001b[0m: name 'reomve_non_engish_words' is not defined"
     ]
    }
   ],
   "source": [
    "filtered_dataset = remove_non_english_words(dataset)\n",
    "\n",
    "stop_word_dataset = reomve_stop_words(filtered_dataset)\n",
    "stop_word_dataset"
   ]
  },
  {
   "cell_type": "code",
   "execution_count": null,
   "metadata": {},
   "outputs": [
    {
     "name": "stdout",
     "output_type": "stream",
     "text": [
      "Number of mislabeled points out of a total 1293 points : 146\n",
      "Accuracy of Gaussian model: 88.70843000773395\n"
     ]
    }
   ],
   "source": [
    "x, y = naive_bayes('bernoully', dataset)\n",
    "evaluate(x, y)\n"
   ]
  },
  {
   "cell_type": "code",
   "execution_count": null,
   "metadata": {},
   "outputs": [
    {
     "name": "stdout",
     "output_type": "stream",
     "text": [
      "Number of mislabeled points out of a total 1293 points : 197\n",
      "Accuracy of Gaussian model: 84.76411446249034\n"
     ]
    }
   ],
   "source": [
    "x2, y2 = naive_bayes('bernoully', filtered_dataset)\n",
    "evaluate(x2, y2)"
   ]
  },
  {
   "cell_type": "code",
   "execution_count": null,
   "metadata": {},
   "outputs": [
    {
     "name": "stdout",
     "output_type": "stream",
     "text": [
      "Number of mislabeled points out of a total 1293 points : 177\n",
      "Accuracy of Gaussian model: 86.31090487238978\n"
     ]
    }
   ],
   "source": [
    "x3, y3 = naive_bayes('bernoully', stop_word_dataset)\n",
    "evaluate(x3, y3)"
   ]
  }
 ],
 "metadata": {
  "kernelspec": {
   "display_name": "spam-filter",
   "language": "python",
   "name": "python3"
  },
  "language_info": {
   "codemirror_mode": {
    "name": "ipython",
    "version": 3
   },
   "file_extension": ".py",
   "mimetype": "text/x-python",
   "name": "python",
   "nbconvert_exporter": "python",
   "pygments_lexer": "ipython3",
   "version": "3.11.3"
  },
  "orig_nbformat": 4
 },
 "nbformat": 4,
 "nbformat_minor": 2
}
